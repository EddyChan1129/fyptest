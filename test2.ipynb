{
 "cells": [
  {
   "cell_type": "code",
   "execution_count": 1,
   "metadata": {},
   "outputs": [],
   "source": [
    "import pandas as pd\n",
    "import yfinance as yf\n",
    "from sklearn.metrics import mean_squared_error\n",
    "import ta\n",
    "import numpy as np\n",
    "import matplotlib.pyplot as plt\n",
    "from scipy.stats import norm\n",
    "from datetime import datetime, timedelta"
   ]
  },
  {
   "cell_type": "code",
   "execution_count": 2,
   "metadata": {},
   "outputs": [],
   "source": [
    "# Download stock data\n",
    "def get_stock_data(ticker, start_date, end_date):\n",
    "    stock_data = yf.download(ticker, start=start_date, end=end_date)\n",
    "    return stock_data\n",
    "\n",
    "# Calculate similarity between two time series\n",
    "def calculate_similarity(current_data, past_data):\n",
    "    min_length = min(len(current_data), len(past_data))\n",
    "    current_data = current_data[:min_length]\n",
    "    past_data = past_data[:min_length]\n",
    "    \n",
    "    # Normalize the data\n",
    "    current_data = (current_data - np.mean(current_data)) / np.std(current_data)\n",
    "    past_data = (past_data - np.mean(past_data)) / np.std(past_data)\n",
    "    \n",
    "    return mean_squared_error(current_data, past_data)\n",
    "\n",
    "\n",
    "\n",
    "# Calibrate indicators\n",
    "def calibrate_indicators(data, rsi_window, sma_window, ema_window,bollinger_window, stoch_window):\n",
    "    data['RSI'] = ta.momentum.RSIIndicator(data['Close'], rsi_window).rsi()\n",
    "    data['SMA'] = ta.trend.sma_indicator(data['Close'], sma_window)\n",
    "    data['EMA'] = ta.trend.EMAIndicator(data['Close'], ema_window).ema_indicator()\n",
    "    data['Bollinger'] = ta.volatility.BollingerBands(data['Close'], bollinger_window).bollinger_mavg()\n",
    "    data['Stochastic'] = ta.momentum.StochasticOscillator(data['High'], data['Low'], data['Close'], stoch_window).stoch()\n",
    "\n",
    "\n",
    "\n",
    "def find_similar_periods(ticker, current_start_date, current_end_date, past_start_year, past_end_year, step_months, top_n=5):\n",
    "    current_data = get_stock_data(ticker, current_start_date, current_end_date)\n",
    "    \n",
    "    similar_periods = {}\n",
    "    \n",
    "    for year in range(past_start_year, past_end_year + 1):\n",
    "        for month in range(1, 13, step_months):\n",
    "            start_date = pd.Timestamp(year=year, month=month, day=1)\n",
    "            end_date = start_date + pd.DateOffset(months=step_months)  \n",
    "\n",
    "\n",
    "            print(f\"Checking period {start_date} to {end_date}\")\n",
    "            \n",
    "            if end_date > current_end_date:\n",
    "                continue\n",
    "            \n",
    "            try:\n",
    "                past_data = get_stock_data(ticker, start_date, end_date)\n",
    "                similarity_score = calculate_similarity(current_data['Close'], past_data['Close'])\n",
    "                similar_periods[(start_date, end_date)] = (similarity_score, (start_date, end_date))\n",
    "            except Exception as e:\n",
    "                print(f\"Failed to get data for period {start_date} to {end_date}: {e}\")\n",
    "    \n",
    "    ranked_periods = sorted(similar_periods.items(), key=lambda x: x[1][0])\n",
    "    \n",
    "    return [x[1][1] for x in ranked_periods[:top_n]]\n",
    "\n",
    "has_been_called = False\n",
    "\n",
    "def calculate_profit(actual_data, predicted_data, indicator, init_price):\n",
    "    # use plot to show the actual and predicted data\n",
    "    start_index = predicted_data.first_valid_index()\n",
    "\n",
    "    # Synchronize actual_data with predicted_data\n",
    "    actual_data = actual_data.loc[start_index:]\n",
    "\n",
    "    global has_been_called\n",
    "\n",
    "    if not has_been_called:\n",
    "        plt.title(indicator)\n",
    "        plt.plot(actual_data, label='Actual')\n",
    "        plt.plot(predicted_data, label='Predicted')\n",
    "        plt.legend()\n",
    "        plt.show()\n",
    "        has_been_called = True\n",
    "\n",
    "    # Calculate the profit\n",
    "    profit = 0\n",
    "    bought = False\n",
    "    money_left = init_price\n",
    "\n",
    "    # Moving Average\n",
    "    short_term_ma = predicted_data.rolling(window=5).mean()\n",
    "    long_term_ma = predicted_data.rolling(window=20).mean()\n",
    "\n",
    "    # RSI\n",
    "    delta = predicted_data.diff()\n",
    "    up, down = delta.copy(), delta.copy()\n",
    "    up[up < 0] = 0\n",
    "    down[down > 0] = 0\n",
    "    average_gain = up.rolling(window=14).mean()\n",
    "    average_loss = abs(down.rolling(window=14).mean())\n",
    "    rs = average_gain / average_loss\n",
    "    rsi = 100 - (100 / (1 + rs))\n",
    "\n",
    "    # Bollinger Bands\n",
    "    sma = predicted_data.rolling(window=20).mean()\n",
    "    std = predicted_data.rolling(window=20).std()\n",
    "    upper_bb = sma + (2 * std)\n",
    "    lower_bb = sma - (2 * std)\n",
    "\n",
    "    # Stochastic Oscillator\n",
    "    low_min  = predicted_data.rolling( window = 14 ).min()\n",
    "    high_max = predicted_data.rolling( window = 14 ).max()\n",
    "    k = 100 * (predicted_data - low_min) / (high_max - low_min)\n",
    "    d = k.rolling(window = 3).mean()\n",
    "\n",
    "    for i in range(1, len(actual_data)):\n",
    "        # Buy signal\n",
    "        if (short_term_ma.iloc[i] > long_term_ma.iloc[i] or rsi.iloc[i] < 30 or predicted_data.iloc[i] < lower_bb.iloc[i] or k.iloc[i] < 20) and money_left >= actual_data.iloc[i]:\n",
    "            stocks_to_buy = money_left // actual_data.iloc[i]  # Calculate how many stocks to buy\n",
    "            bought += stocks_to_buy  # Buy the stocks\n",
    "            money_spent = stocks_to_buy * actual_data.iloc[i]\n",
    "            profit -= money_spent\n",
    "            money_left -= money_spent  # Deduct the money spent from the money left\n",
    "        # Sell signal\n",
    "        elif (short_term_ma.iloc[i] < long_term_ma.iloc[i] or rsi.iloc[i] > 70 or predicted_data.iloc[i] > upper_bb.iloc[i] or k.iloc[i] > 80) and bought > 0:\n",
    "            money_earned = bought * actual_data.iloc[i]  # Sell all the stocks\n",
    "            profit += money_earned\n",
    "            money_left += money_earned  # Add the money earned to the money left\n",
    "            bought = 0  # Reset the number of stocks bought\n",
    "    if bought > 0:\n",
    "        money_earned = bought * actual_data.iloc[-1]  # Sell all the stocks\n",
    "        profit += money_earned\n",
    "        money_left += money_earned  # Add the money earned to the money left\n",
    "\n",
    "    # Calculate the final price\n",
    "    final_price = init_price + profit\n",
    "\n",
    "    # Calculate return\n",
    "    return_rate = profit / init_price\n",
    "\n",
    "    # Calculate Sharpe ratio\n",
    "    excess_returns = predicted_data.pct_change().dropna()\n",
    "    sharpe_ratio = np.mean(excess_returns) / np.std(excess_returns)\n",
    "\n",
    "    return profit, final_price, return_rate, sharpe_ratio\n",
    "\n",
    "\n",
    "\n",
    "# Predict prices using the single-period SMA\n",
    "def predict_prices(data, sma_window):\n",
    "    data['SMA'] = ta.trend.sma_indicator(data['Close'], sma_window)\n",
    "    predicted_prices = data['SMA']  # Use the single-period SMA directly\n",
    "    return predicted_prices"
   ]
  },
  {
   "cell_type": "code",
   "execution_count": 6,
   "metadata": {},
   "outputs": [
    {
     "name": "stderr",
     "output_type": "stream",
     "text": [
      "[*********************100%%**********************]  1 of 1 completed\n",
      "[*********************100%%**********************]  1 of 1 completed\n",
      "[*********************100%%**********************]  1 of 1 completed\n"
     ]
    },
    {
     "name": "stdout",
     "output_type": "stream",
     "text": [
      "Checking period 2014-01-01 00:00:00 to 2014-04-01 00:00:00\n",
      "Checking period 2014-04-01 00:00:00 to 2014-07-01 00:00:00\n",
      "Checking period 2014-07-01 00:00:00 to 2014-10-01 00:00:00\n"
     ]
    },
    {
     "name": "stderr",
     "output_type": "stream",
     "text": [
      "[*********************100%%**********************]  1 of 1 completed\n",
      "[*********************100%%**********************]  1 of 1 completed\n"
     ]
    },
    {
     "name": "stdout",
     "output_type": "stream",
     "text": [
      "Checking period 2014-10-01 00:00:00 to 2015-01-01 00:00:00\n",
      "Checking period 2015-01-01 00:00:00 to 2015-04-01 00:00:00\n"
     ]
    },
    {
     "name": "stderr",
     "output_type": "stream",
     "text": [
      "[*********************100%%**********************]  1 of 1 completed\n",
      "[*********************100%%**********************]  1 of 1 completed\n",
      "[*********************100%%**********************]  1 of 1 completed\n"
     ]
    },
    {
     "name": "stdout",
     "output_type": "stream",
     "text": [
      "Checking period 2015-04-01 00:00:00 to 2015-07-01 00:00:00\n",
      "Checking period 2015-07-01 00:00:00 to 2015-10-01 00:00:00\n",
      "Checking period 2015-10-01 00:00:00 to 2016-01-01 00:00:00\n"
     ]
    },
    {
     "name": "stderr",
     "output_type": "stream",
     "text": [
      "[*********************100%%**********************]  1 of 1 completed\n",
      "[*********************100%%**********************]  1 of 1 completed\n",
      "[*********************100%%**********************]  1 of 1 completed\n"
     ]
    },
    {
     "name": "stdout",
     "output_type": "stream",
     "text": [
      "Checking period 2016-01-01 00:00:00 to 2016-04-01 00:00:00\n",
      "Checking period 2016-04-01 00:00:00 to 2016-07-01 00:00:00\n",
      "Checking period 2016-07-01 00:00:00 to 2016-10-01 00:00:00\n"
     ]
    },
    {
     "name": "stderr",
     "output_type": "stream",
     "text": [
      "[*********************100%%**********************]  1 of 1 completed\n",
      "[*********************100%%**********************]  1 of 1 completed\n",
      "[*********************100%%**********************]  1 of 1 completed\n"
     ]
    },
    {
     "name": "stdout",
     "output_type": "stream",
     "text": [
      "Checking period 2016-10-01 00:00:00 to 2017-01-01 00:00:00\n",
      "Checking period 2017-01-01 00:00:00 to 2017-04-01 00:00:00\n",
      "Checking period 2017-04-01 00:00:00 to 2017-07-01 00:00:00\n"
     ]
    },
    {
     "name": "stderr",
     "output_type": "stream",
     "text": [
      "[*********************100%%**********************]  1 of 1 completed\n",
      "[*********************100%%**********************]  1 of 1 completed\n",
      "[*********************100%%**********************]  1 of 1 completed\n"
     ]
    },
    {
     "name": "stdout",
     "output_type": "stream",
     "text": [
      "Checking period 2017-07-01 00:00:00 to 2017-10-01 00:00:00\n",
      "Checking period 2017-10-01 00:00:00 to 2018-01-01 00:00:00\n",
      "Checking period 2018-01-01 00:00:00 to 2018-04-01 00:00:00\n"
     ]
    },
    {
     "name": "stderr",
     "output_type": "stream",
     "text": [
      "[*********************100%%**********************]  1 of 1 completed\n",
      "[*********************100%%**********************]  1 of 1 completed\n",
      "[*********************100%%**********************]  1 of 1 completed\n"
     ]
    },
    {
     "name": "stdout",
     "output_type": "stream",
     "text": [
      "Checking period 2018-04-01 00:00:00 to 2018-07-01 00:00:00\n",
      "Checking period 2018-07-01 00:00:00 to 2018-10-01 00:00:00\n",
      "Checking period 2018-10-01 00:00:00 to 2019-01-01 00:00:00\n"
     ]
    },
    {
     "name": "stderr",
     "output_type": "stream",
     "text": [
      "[*********************100%%**********************]  1 of 1 completed\n",
      "[*********************100%%**********************]  1 of 1 completed\n",
      "[*********************100%%**********************]  1 of 1 completed\n"
     ]
    },
    {
     "name": "stdout",
     "output_type": "stream",
     "text": [
      "Checking period 2019-01-01 00:00:00 to 2019-04-01 00:00:00\n",
      "Checking period 2019-04-01 00:00:00 to 2019-07-01 00:00:00\n",
      "Checking period 2019-07-01 00:00:00 to 2019-10-01 00:00:00\n"
     ]
    },
    {
     "name": "stderr",
     "output_type": "stream",
     "text": [
      "[*********************100%%**********************]  1 of 1 completed\n",
      "[*********************100%%**********************]  1 of 1 completed\n",
      "[*********************100%%**********************]  1 of 1 completed\n"
     ]
    },
    {
     "name": "stdout",
     "output_type": "stream",
     "text": [
      "Checking period 2019-10-01 00:00:00 to 2020-01-01 00:00:00\n",
      "Checking period 2020-01-01 00:00:00 to 2020-04-01 00:00:00\n",
      "Checking period 2020-04-01 00:00:00 to 2020-07-01 00:00:00\n"
     ]
    },
    {
     "name": "stderr",
     "output_type": "stream",
     "text": [
      "[*********************100%%**********************]  1 of 1 completed\n",
      "[*********************100%%**********************]  1 of 1 completed\n",
      "[*********************100%%**********************]  1 of 1 completed\n"
     ]
    },
    {
     "name": "stdout",
     "output_type": "stream",
     "text": [
      "Checking period 2020-07-01 00:00:00 to 2020-10-01 00:00:00\n",
      "Checking period 2020-10-01 00:00:00 to 2021-01-01 00:00:00\n",
      "Checking period 2021-01-01 00:00:00 to 2021-04-01 00:00:00\n"
     ]
    },
    {
     "name": "stderr",
     "output_type": "stream",
     "text": [
      "[*********************100%%**********************]  1 of 1 completed\n",
      "[*********************100%%**********************]  1 of 1 completed\n",
      "[*********************100%%**********************]  1 of 1 completed\n"
     ]
    },
    {
     "name": "stdout",
     "output_type": "stream",
     "text": [
      "Checking period 2021-04-01 00:00:00 to 2021-07-01 00:00:00\n",
      "Checking period 2021-07-01 00:00:00 to 2021-10-01 00:00:00\n",
      "Checking period 2021-10-01 00:00:00 to 2022-01-01 00:00:00\n"
     ]
    },
    {
     "name": "stderr",
     "output_type": "stream",
     "text": [
      "[*********************100%%**********************]  1 of 1 completed\n",
      "[*********************100%%**********************]  1 of 1 completed\n",
      "[*********************100%%**********************]  1 of 1 completed\n"
     ]
    },
    {
     "name": "stdout",
     "output_type": "stream",
     "text": [
      "Checking period 2022-01-01 00:00:00 to 2022-04-01 00:00:00\n",
      "Checking period 2022-04-01 00:00:00 to 2022-07-01 00:00:00\n",
      "Checking period 2022-07-01 00:00:00 to 2022-10-01 00:00:00\n"
     ]
    },
    {
     "name": "stderr",
     "output_type": "stream",
     "text": [
      "[*********************100%%**********************]  1 of 1 completed\n",
      "[*********************100%%**********************]  1 of 1 completed\n",
      "[*********************100%%**********************]  1 of 1 completed\n"
     ]
    },
    {
     "name": "stdout",
     "output_type": "stream",
     "text": [
      "Checking period 2022-10-01 00:00:00 to 2023-01-01 00:00:00\n",
      "Checking period 2023-01-01 00:00:00 to 2023-04-01 00:00:00\n",
      "Checking period 2023-04-01 00:00:00 to 2023-07-01 00:00:00\n"
     ]
    },
    {
     "name": "stderr",
     "output_type": "stream",
     "text": [
      "[*********************100%%**********************]  1 of 1 completed\n",
      "[*********************100%%**********************]  1 of 1 completed\n",
      "[*********************100%%**********************]  1 of 1 completed\n"
     ]
    },
    {
     "name": "stdout",
     "output_type": "stream",
     "text": [
      "Checking period 2023-07-01 00:00:00 to 2023-10-01 00:00:00\n",
      "Checking period 2023-10-01 00:00:00 to 2024-01-01 00:00:00\n",
      "Checking period 2024-01-01 00:00:00 to 2024-04-01 00:00:00\n"
     ]
    },
    {
     "name": "stderr",
     "output_type": "stream",
     "text": [
      "[*********************100%%**********************]  1 of 1 completed\n",
      "[*********************100%%**********************]  1 of 1 completed\n",
      "[*********************100%%**********************]  1 of 1 completed\n",
      "[*********************100%%**********************]  1 of 1 completed\n",
      "[*********************100%%**********************]  1 of 1 completed\n",
      "[*********************100%%**********************]  1 of 1 completed\n",
      "[*********************100%%**********************]  1 of 1 completed\n"
     ]
    },
    {
     "name": "stdout",
     "output_type": "stream",
     "text": [
      "Checking period 2024-04-01 00:00:00 to 2024-07-01 00:00:00\n",
      "Checking period 2024-07-01 00:00:00 to 2024-10-01 00:00:00\n",
      "Checking period 2024-10-01 00:00:00 to 2025-01-01 00:00:00\n",
      "Similar periods: [(Timestamp('2016-04-01 00:00:00'), Timestamp('2016-07-01 00:00:00')), (Timestamp('2018-10-01 00:00:00'), Timestamp('2019-01-01 00:00:00')), (Timestamp('2023-07-01 00:00:00'), Timestamp('2023-10-01 00:00:00')), (Timestamp('2022-04-01 00:00:00'), Timestamp('2022-07-01 00:00:00')), (Timestamp('2015-07-01 00:00:00'), Timestamp('2015-10-01 00:00:00'))]\n",
      "\n"
     ]
    },
    {
     "name": "stderr",
     "output_type": "stream",
     "text": [
      "[*********************100%%**********************]  1 of 1 completed\n",
      "[*********************100%%**********************]  1 of 1 completed\n",
      "[*********************100%%**********************]  1 of 1 completed\n",
      "[*********************100%%**********************]  1 of 1 completed\n",
      "[*********************100%%**********************]  1 of 1 completed\n",
      "[*********************100%%**********************]  1 of 1 completed\n",
      "[*********************100%%**********************]  1 of 1 completed\n",
      "[*********************100%%**********************]  1 of 1 completed\n",
      "[*********************100%%**********************]  1 of 1 completed\n",
      "[*********************100%%**********************]  1 of 1 completed\n"
     ]
    },
    {
     "name": "stdout",
     "output_type": "stream",
     "text": [
      "Average SMA profit                                |     -21.24\n",
      "Average RSI profit                                |      23.90\n",
      "Average EMA profit                                |      -2.43\n",
      "Average Bollinger Bands profit                    |     -21.24\n",
      "Average Stochastic Oscillator profit              |      18.08\n",
      "\n",
      "Average SMA final price                           |     978.76\n",
      "Average RSI final price                           |    1023.90\n",
      "Average EMA final price                           |     997.57\n",
      "Average Bollinger Bands final price               |     978.76\n",
      "Average Stochastic Oscillator final price         |    1018.08\n",
      "\n",
      "Average SMA return rate                           |   -0.02124\n",
      "Average RSI return rate                           |    0.02390\n",
      "Average EMA return rate                           |   -0.00243\n",
      "Average Bollinger Bands return rate               |   -0.02124\n",
      "Average Stochastic Oscillator return rate         |    0.01808\n",
      "\n",
      "Average SMA Sharpe ratio                          |       0.95\n",
      "Average RSI Sharpe ratio                          |      -0.01\n",
      "Average EMA Sharpe ratio                          |       0.49\n",
      "Average Bollinger Bands Sharpe ratio              |       0.95\n",
      "Average Stochastic Oscillator Sharpe ratio        |       0.14\n",
      "The best indicator is RSI with a profit of 23.90206871032715\n"
     ]
    },
    {
     "data": {
      "image/png": "[encoded data removed]",
      "text/plain": [
       "<Figure size 1200x500 with 1 Axes>"
      ]
     },
     "metadata": {},
     "output_type": "display_data"
    }
   ],
   "source": [
    "# Example usage\n",
    "ticker_symbol = input(\"Enter the ticker symbol: \")\n",
    "# The current_start and current_end should be user input\n",
    "current_start = pd.Timestamp(year=2023, month=12, day=1)\n",
    "\n",
    "endYear = datetime.now().year\n",
    "endMonth = datetime.now().month\n",
    "endDay = datetime.now().day\n",
    "\n",
    "current_end = pd.Timestamp(year=endYear, month=endMonth, day=endDay)\n",
    "past_start_year = endYear - 10\n",
    "past_end_year = endYear\n",
    "step_months = 3\n",
    "\n",
    "# Calibrate indicators\n",
    "rsi_window = 14\n",
    "sma_window = 20\n",
    "ema_window = 12\n",
    "bollinger_window = 20\n",
    "stoch_window = 14\n",
    "init_price = 1000\n",
    "\n",
    "sma_profits = []\n",
    "rsi_profits = []\n",
    "ema_profits = []\n",
    "bollinger_profits = []\n",
    "stoch_profits = []\n",
    "\n",
    "sma_final_prices = []\n",
    "rsi_final_prices = []\n",
    "ema_final_prices = []\n",
    "bollinger_final_prices = []\n",
    "stoch_final_prices = []\n",
    "\n",
    "# Initialize lists for return rates\n",
    "sma_return_rates = []\n",
    "rsi_return_rates = []\n",
    "ema_return_rates = []\n",
    "bollinger_return_rates = []\n",
    "stoch_return_rates = []\n",
    "\n",
    "# Initialize list for sharpe ratios\n",
    "sma_sharpe_ratios = []\n",
    "rsi_sharpe_ratios = []\n",
    "ema_sharpe_ratios = []\n",
    "bollinger_sharpe_ratios = []\n",
    "stoch_sharpe_ratios = []\n",
    "\n",
    "\n",
    "\n",
    "similar_periods = find_similar_periods(ticker_symbol, current_start, current_end, past_start_year, past_end_year, step_months)\n",
    "print(f\"Similar periods: {similar_periods}\\n\")\n",
    "for i, period in enumerate(similar_periods, 1):\n",
    "    # Fetch the data for the two periods\n",
    "    data_current = get_stock_data(ticker_symbol, current_start, current_end)\n",
    "    data_similar = get_stock_data(ticker_symbol, period[0], period[1])\n",
    "    # Calibrate indicators\n",
    "    calibrate_indicators(data_similar, rsi_window, sma_window, ema_window,bollinger_window, stoch_window)\n",
    "\n",
    "    # Define future_start and future_end (3 month)\n",
    "    future_start = period[1]\n",
    "    future_end = future_start + pd.DateOffset(months=3)\n",
    "\n",
    "    # Evaluate performance with past future periods\n",
    "    future_data = get_stock_data(ticker_symbol, future_start, future_end)\n",
    "    calibrate_indicators(future_data, rsi_window, sma_window, ema_window, bollinger_window, stoch_window)\n",
    "\n",
    "    predicted_prices = predict_prices(future_data, sma_window)\n",
    "    actual_prices = future_data['Close']\n",
    "\n",
    "    #    return profit,return_rate, sharpe_ratio, final_price\n",
    "\n",
    "    \n",
    "    # Inside the loop\n",
    "    sma_profit, sma_final_price,sma_return_rate,sma_sharpe_ratio = calculate_profit(actual_prices, predicted_prices, \"SMA\", init_price)\n",
    "    rsi_profit, rsi_final_price, rsi_return_rate,rsi_sharpe_ratio = calculate_profit(actual_prices, future_data['RSI'], \"RSI\", init_price)\n",
    "    ema_profit, ema_final_price, ema_return_rate, ema_sharpe_ratio = calculate_profit(actual_prices, future_data['EMA'], \"EMA\", init_price)\n",
    "    bollinger_profit, bollinger_final_price, bollinger_return_rate, bollinger_sharpe_ratio = calculate_profit(actual_prices, future_data['Bollinger'], \"Bollinger\", init_price)\n",
    "    stoch_profit, stoch_final_price, stoch_return_rate, stoch_sharpe_ratio = calculate_profit(actual_prices, future_data['Stochastic'], \"Stochastic\", init_price)\n",
    "    # Append profits and final prices to the respective lists\n",
    "    sma_profits.append(sma_profit)\n",
    "    rsi_profits.append(rsi_profit)\n",
    "    ema_profits.append(ema_profit)\n",
    "    bollinger_profits.append(bollinger_profit)\n",
    "    stoch_profits.append(stoch_profit)\n",
    "\n",
    "    sma_final_prices.append(sma_final_price)\n",
    "    rsi_final_prices.append(rsi_final_price)\n",
    "    ema_final_prices.append(ema_final_price)\n",
    "    bollinger_final_prices.append(bollinger_final_price)\n",
    "    stoch_final_prices.append(stoch_final_price)\n",
    "\n",
    "    # Append return rates to the respective lists\n",
    "    sma_return_rates.append(sma_return_rate)\n",
    "    rsi_return_rates.append(rsi_return_rate)\n",
    "    ema_return_rates.append(ema_return_rate)\n",
    "    bollinger_return_rates.append(bollinger_return_rate)\n",
    "    stoch_return_rates.append(stoch_return_rate)\n",
    "\n",
    "    sma_sharpe_ratios.append(sma_sharpe_ratio)\n",
    "    rsi_sharpe_ratios.append(rsi_sharpe_ratio)\n",
    "    ema_sharpe_ratios.append(ema_sharpe_ratio)\n",
    "    bollinger_sharpe_ratios.append(bollinger_sharpe_ratio)\n",
    "    stoch_sharpe_ratios.append(stoch_sharpe_ratio)\n",
    "\n",
    "\n",
    "# Calculate average profit and final price for each indicator\n",
    "average_sma_profit = sum(sma_profits) / len(sma_profits)\n",
    "average_rsi_profit = sum(rsi_profits) / len(rsi_profits)\n",
    "average_ema_profit = sum(ema_profits) / len(ema_profits)\n",
    "average_bollinger_profit = sum(bollinger_profits) / len(bollinger_profits)\n",
    "average_stoch_profit = sum(stoch_profits) / len(stoch_profits)\n",
    "\n",
    "average_sma_final_price = sum(sma_final_prices) / len(sma_final_prices)\n",
    "average_rsi_final_price = sum(rsi_final_prices) / len(rsi_final_prices)\n",
    "average_ema_final_price = sum(ema_final_prices) / len(ema_final_prices)\n",
    "average_bollinger_final_price = sum(bollinger_final_prices) / len(bollinger_final_prices)\n",
    "average_stoch_final_price = sum(stoch_final_prices) / len(stoch_final_prices)\n",
    "\n",
    "average_sma_return_rate = sum(sma_return_rates) / len(sma_return_rates)\n",
    "average_rsi_return_rate = sum(rsi_return_rates) / len(rsi_return_rates)\n",
    "average_ema_return_rate = sum(ema_return_rates) / len(ema_return_rates)\n",
    "average_bollinger_return_rate = sum(bollinger_return_rates) / len(bollinger_return_rates)\n",
    "average_stoch_return_rate = sum(stoch_return_rates) / len(stoch_return_rates)\n",
    "\n",
    "average_sma_sharpe_ratio = np.nanmean(sma_sharpe_ratios)\n",
    "average_rsi_sharpe_ratio = np.nanmean(rsi_sharpe_ratios)\n",
    "average_ema_sharpe_ratio = np.nanmean(ema_sharpe_ratios)\n",
    "average_bollinger_sharpe_ratio = np.nanmean(bollinger_sharpe_ratios)\n",
    "average_stoch_sharpe_ratio = np.nanmean(stoch_sharpe_ratios)\n",
    "\n",
    "print(f'{\"Average SMA profit\":50s}| {average_sma_profit:10.2f}')\n",
    "print(f'{\"Average RSI profit\":50s}| {average_rsi_profit:10.2f}')\n",
    "print(f'{\"Average EMA profit\":50s}| {average_ema_profit:10.2f}')\n",
    "print(f'{\"Average Bollinger Bands profit\":50s}| {average_bollinger_profit:10.2f}')\n",
    "print(f'{\"Average Stochastic Oscillator profit\":50s}| {average_stoch_profit:10.2f}\\n')\n",
    "\n",
    "print(f'{\"Average SMA final price\":50s}| {average_sma_final_price:10.2f}')\n",
    "print(f'{\"Average RSI final price\":50s}| {average_rsi_final_price:10.2f}')\n",
    "print(f'{\"Average EMA final price\":50s}| {average_ema_final_price:10.2f}')\n",
    "print(f'{\"Average Bollinger Bands final price\":50s}| {average_bollinger_final_price:10.2f}')\n",
    "print(f'{\"Average Stochastic Oscillator final price\":50s}| {average_stoch_final_price:10.2f}\\n')\n",
    "\n",
    "print(f'{\"Average SMA return rate\":50s}| {average_sma_return_rate:10.5f}')\n",
    "print(f'{\"Average RSI return rate\":50s}| {average_rsi_return_rate:10.5f}')\n",
    "print(f'{\"Average EMA return rate\":50s}| {average_ema_return_rate:10.5f}')\n",
    "print(f'{\"Average Bollinger Bands return rate\":50s}| {average_bollinger_return_rate:10.5f}')\n",
    "print(f'{\"Average Stochastic Oscillator return rate\":50s}| {average_stoch_return_rate:10.5f}\\n')\n",
    "\n",
    "print(f'{\"Average SMA Sharpe ratio\":50s}| {average_sma_sharpe_ratio:10.2f}')\n",
    "print(f'{\"Average RSI Sharpe ratio\":50s}| {average_rsi_sharpe_ratio:10.2f}')\n",
    "print(f'{\"Average EMA Sharpe ratio\":50s}| {average_ema_sharpe_ratio:10.2f}')\n",
    "print(f'{\"Average Bollinger Bands Sharpe ratio\":50s}| {average_bollinger_sharpe_ratio:10.2f}')\n",
    "print(f'{\"Average Stochastic Oscillator Sharpe ratio\":50s}| {average_stoch_sharpe_ratio:10.2f}')\n",
    "\n",
    "# Python\n",
    "profits = [\n",
    "    (\"SMA\", average_sma_profit),\n",
    "    (\"RSI\", average_rsi_profit),\n",
    "    (\"EMA\", average_ema_profit),\n",
    "    (\"Bollinger\", average_bollinger_profit),\n",
    "    (\"Stochastic\", average_stoch_profit)\n",
    "]\n",
    "\n",
    "# Sort the list in descending order based on the profit\n",
    "profits.sort(key=lambda x: x[1], reverse=True)\n",
    "\n",
    "# The first element in the sorted list is the best indicator\n",
    "best_indicator = profits[0]\n",
    "\n",
    "\n",
    "print(f\"The best indicator is {best_indicator[0]} with a profit of {best_indicator[1]}\")\n",
    "\n",
    "if best_indicator[1] > 0:\n",
    "    end_date = datetime.now()\n",
    "    start_date = end_date - timedelta(days=90)  # Get data for the past year\n",
    "    data = get_stock_data(ticker_symbol, start_date, end_date)\n",
    "\n",
    "    rsi_window = 14\n",
    "    sma_window = 20\n",
    "    ema_window = 12\n",
    "    bollinger_window = 20\n",
    "    stoch_window = 14\n",
    "    calibrate_indicators(data, rsi_window, sma_window, ema_window, bollinger_window, stoch_window)\n",
    "\n",
    "    if best_indicator[0] == 'Stochastic':\n",
    "        buy_signals = data['Stochastic'] < 20\n",
    "        sell_signals = data['Stochastic'] > 80\n",
    "    elif best_indicator[0] == 'SMA':\n",
    "        buy_signals = data['SMA'] < data['Close']  # Adjust these conditions as needed\n",
    "        sell_signals = data['SMA'] > data['Close']\n",
    "    elif best_indicator[0] == 'RSI':\n",
    "        buy_signals = data['RSI'] < 30\n",
    "        sell_signals = data['RSI'] > 70\n",
    "    elif best_indicator[0] == 'EMA':\n",
    "        buy_signals = data['EMA'] < data['Close']  # Adjust these conditions as needed\n",
    "        sell_signals = data['EMA'] > data['Close']\n",
    "    elif best_indicator[0] == 'Bollinger':\n",
    "        buy_signals = data['Close'] < data['Bollinger']  # Adjust these conditions as needed\n",
    "        sell_signals = data['Close'] > data['Bollinger']\n",
    "\n",
    "    buy_prices = data['Close'].where(buy_signals, None)\n",
    "    sell_prices = data['Close'].where(sell_signals, None)\n",
    "\n",
    "    plt.figure(figsize=(12,5))\n",
    "    plt.plot(data['Close'], label='Close Price', color='blue', alpha=0.35)\n",
    "    plt.scatter(data.index, buy_prices, color='green', label='Buy Signal', marker='^', alpha=1)\n",
    "    plt.scatter(data.index, sell_prices, color='red', label='Sell Signal', marker='v', alpha=1)\n",
    "\n",
    "    # Check if today is a buy or sell signal\n",
    "    if buy_signals.iloc[-1]:\n",
    "        plt.scatter(data.index[-1], data['Close'].iloc[-1], color='blue', label='Today: Buy Signal', marker='o', alpha=1)\n",
    "        today_signal = 'Buy'\n",
    "    elif sell_signals.iloc[-1]:\n",
    "        plt.scatter(data.index[-1], data['Close'].iloc[-1], color='purple', label='Today: Sell Signal', marker='o', alpha=1)\n",
    "        today_signal = 'Sell'\n",
    "    else:\n",
    "        today_signal = 'Hold'\n",
    "\n",
    "    plt.title(f'Stock Price with Buy & Sell Signals\\nToday ({end_date.strftime(\"%Y-%m-%d\")}): {today_signal} Signal')\n",
    "    plt.xlabel('Date')\n",
    "    plt.ylabel('Price')\n",
    "    plt.legend(loc='upper left')\n",
    "    plt.savefig('predict.png')  # Save the plot as a PNG file\n",
    "    plt.show()"
   ]
  }
 ],
 "metadata": {
  "kernelspec": {
   "display_name": "Python 3",
   "language": "python",
   "name": "python3"
  },
  "language_info": {
   "codemirror_mode": {
    "name": "ipython",
    "version": 3
   },
   "file_extension": ".py",
   "mimetype": "text/x-python",
   "name": "python",
   "nbconvert_exporter": "python",
   "pygments_lexer": "ipython3",
   "version": "3.10.13"
  }
 },
 "nbformat": 4,
 "nbformat_minor": 2
}
